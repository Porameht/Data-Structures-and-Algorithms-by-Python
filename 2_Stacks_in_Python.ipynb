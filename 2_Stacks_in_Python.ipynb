{
  "cells": [
    {
      "cell_type": "markdown",
      "metadata": {
        "id": "view-in-github",
        "colab_type": "text"
      },
      "source": [
        "<a href=\"https://colab.research.google.com/github/Porameht/Data-Structures-and-Algorithms-in-Python/blob/main/2_Stacks_in_Python.ipynb\" target=\"_parent\"><img src=\"https://colab.research.google.com/assets/colab-badge.svg\" alt=\"Open In Colab\"/></a>"
      ]
    },
    {
      "cell_type": "markdown",
      "metadata": {
        "id": "tTrAtmvzaqjX"
      },
      "source": [
        "# Data Structures and Algorithms\n",
        "\n",
        "**Todsapon Banklongsi (Aj. NesT the Series)**\n",
        "\n",
        "Facebook: [Aj. NesT the Series](https://www.facebook.com/ajnesttheseries)\n",
        "\n",
        "YouTube: [Aj. NesT the Series](https://www.youtube.com/ajnesttheseries)\n",
        "\n",
        "![alt text](http://res.cloudinary.com/dyd911kmh/image/upload/c_scale,f_auto,q_auto:best,w_700/v1512740202/Template_2_oxrskq.png)\n",
        "\n",
        "Image: DataCamp\n",
        "\n",
        "**Primitve Data Strcutures** คือ ข้อมูลที่ถูกกำหนดคุณสมบัติไว้แล้ว เราไม่สามารถกำหนดเพิ่มหรือสร้างเพิ่มได้อีก \n",
        "\n",
        "--> Ex. Integer, Float, String, Boolean \n",
        "\n",
        "**Non-Primitive Data Structures** คือ\n",
        "คือ ข้อมูลที่ยังไม่ถูกกำหนดคุณสมบัติ เราสามารถสร้างขึ้นมาใหม่และกำหนดคุณสมบัติของชนิดข้อมูลได้\n",
        "\n",
        "--> Ex. Array, List, Tuple, Dictionary, Set, File\n",
        "\n",
        "**Linear Data Structures** หรือ โครงสร้างข้อมูลเชิงเส้น คือ โครงสร้างที่มีการจัดเก็บข้อมูลหรือความสัมพันธ์ของข้อมูลในลักษณะเรียงต่อเนื่องกันเป็นลำดับ\n",
        "\n",
        "--> Ex. Array, List, Stack, Queue\n",
        "\n",
        "**Non-Linear Data Structures** หรือ โครงสร้างข้อมูลแบบไม่เชิงเส้น คือ โครงสร้างที่มีการจัดเก็บข้อมูลหรือความสัมพันธ์กับข้อมูลอื่นได้หลายตัว\n",
        "\n",
        "--> Ex. Graphs, Trees\n",
        "\n",
        "![alt text](https://miro.medium.com/max/1338/1*Xokk6XOjWyIGCBujkJsCzQ.jpeg)\n",
        "\n",
        "Image: Medium written by Vaidehi Joshi\n",
        "\n",
        "## Non-Primitive --> List --> Linear (Stacks)\n",
        "\n",
        "![alt text](https://res.cloudinary.com/practicaldev/image/fetch/s--Is8YL7Ba--/c_imagga_scale,f_auto,fl_progressive,h_500,q_auto,w_1000/https://cl.ly/d84e17fec485/Image%25202018-09-13%2520at%252012.22.09%2520PM.png)\n",
        "\n",
        "# Stacks (LIFO)\n",
        "\n",
        "***Data structures organize storage in computers so that we can efficiently access and change data. Stacks and Queues are some of the earliest data structures defined in computer science.***\n",
        "\n",
        "![alt text](https://www.wisdomjobs.com/userfiles/stack_example.jpg)\n",
        "\n",
        "Image: wisdomjobs.com\n",
        "\n",
        "**A stack is a collection of objects that supports fast Last-In, First-Out (LIFO) or First-In, Last-Out (FILO) semantics for inserts and deletes. Unlike lists or arrays, stacks typically don’t allow for random access to the objects they contain. The insert and delete operations are also often called Push and Pop.**\n",
        "\n",
        "Stacks have a wide range of uses in algorithms, for example in language parsing and runtime memory management (“call stack”). A short and beautiful algorithm using a stack is depth-first search (DFS) on a tree or graph data structure.\n",
        "\n",
        "![alt text](https://open4tech.com/wp-content/uploads/2018/12/word-image.png)\n",
        "\n",
        "Image: open4tech\n",
        "\n",
        "![alt text](https://i1.faceprep.in/Companies-1/stack%20data%20structure%20in%20c.png)\n",
        "\n",
        "Image: faceprep\n",
        "\n",
        "![alt text](https://i1.faceprep.in/Companies-1/stack-operations-in-c.gif)\n",
        "\n",
        "Image: faceprep"
      ]
    },
    {
      "cell_type": "markdown",
      "metadata": {
        "id": "0xKgYuXniTjN"
      },
      "source": [
        "## Stack Exercises "
      ]
    },
    {
      "cell_type": "markdown",
      "metadata": {
        "id": "pa9Crqi_jgMz"
      },
      "source": [
        "###Stack Exercise 1: Creating Stack using list Built-in --> List Functions\n",
        "\n",
        "Python’s built-in list type makes a decent stack data structure as it supports push and pop operations in amortized O(1) time.\n",
        "\n",
        "**The List Data Type**\n",
        "\n",
        "1) list.append(x) \n",
        "\n",
        "2) list.pop()\n",
        "\n",
        "3) list.count(x)\n",
        "\n",
        "4) list.index(x[ , start[ , end]])\n",
        "\n",
        "5) list.reverse()\n",
        "\n",
        "6) list.sort()\n",
        "\n",
        "7) list.exetend()\n",
        "\n",
        "8) list.insert(i, x)\n",
        "\n",
        "9) list.remove()\n",
        "\n",
        "10) list.clear()\n",
        "\n",
        "11) list.copy()"
      ]
    },
    {
      "cell_type": "code",
      "execution_count": null,
      "metadata": {
        "colab": {
          "base_uri": "https://localhost:8080/"
        },
        "id": "qVIeETNp_LNY",
        "outputId": "988d2200-5859-4748-8611-0025b3f76eb4"
      },
      "outputs": [
        {
          "name": "stdout",
          "output_type": "stream",
          "text": [
            "['Python', 'C', 'Java', 'C++', 'C#', 'JavaScript', 'R', 'PHP', 'Golang', 'Swift', 'Python', 'Java', 'Python']\n",
            "['Python', 'Java', 'Python', 'Swift', 'Golang', 'PHP', 'R', 'JavaScript', 'C#', 'C++', 'Java', 'C', 'Python']\n",
            "6\n",
            "['C', 'C#', 'C++', 'Golang', 'Java', 'Java', 'JavaScript', 'PHP', 'Python', 'Python', 'Python', 'R', 'Swift']\n",
            "['C', 'C#', 'C++', 'Golang', 'Java', 'Java', 'JavaScript', 'PHP', 'Python', 'Python', 'Python', 'R', 'Swift', 'SQL']\n",
            "['C', 'C#', 'C++', 'Golang', 'Java', 'Java', 'JavaScript', 'PHP', 'Python', 'Python', 'Python', 'R', 'Swift']\n",
            "['C', 'C#', 'C++', 'Golang', 'Java', 'Java', 'JavaScript', 'PHP', 'Python', 'Python', 'Python', 'R', 'Swift', 'F', 'r', 'a', 'n', 'k']\n",
            "['VB.NET', 'C', 'C#', 'C++', 'Golang', 'Java', 'Java', 'JavaScript', 'PHP', 'Python', 'Python', 'Python', 'R', 'Swift', 'F', 'r', 'a', 'n', 'k']\n",
            "['VB.NET', 'C', 'C#', 'C++', 'Golang', 'Java', 'Kotlin', 'Java', 'JavaScript', 'PHP', 'Python', 'Python', 'Python', 'R', 'Swift', 'F', 'r', 'a', 'n', 'k']\n",
            "['VB.NET', 'C', 'C#', 'C++', 'Golang', 'Kotlin', 'Java', 'JavaScript', 'PHP', 'Python', 'Python', 'Python', 'R', 'Swift', 'F', 'r', 'a', 'n', 'k']\n",
            "['VB.NET', 'C', 'C#', 'C++', 'Golang', 'Kotlin', 'Java', 'JavaScript', 'PHP', 'Python', 'R', 'Swift', 'F', 'r', 'a', 'n', 'k']\n",
            "[]\n",
            "['VB.NET', 'C', 'C#', 'C++', 'Golang', 'Kotlin', 'Java', 'JavaScript', 'PHP', 'Python', 'R', 'Swift', 'F', 'r', 'a', 'n', 'k']\n"
          ]
        }
      ],
      "source": [
        "#Stack Exercise 1: Creating Stack using list Built-in --> List Functions\n",
        "cpLanguages = ['Python','C','Java','C++','C#','JavaScript','R','PHP','Golang','Swift','Python','Java','Python']\n",
        "print(cpLanguages)\n",
        "\n",
        "python_count = cpLanguages.count('Python')\n",
        "# print(python_count)\n",
        "\n",
        "assembly_count = cpLanguages.count('Assembly')\n",
        "# print(assembly_count)\n",
        "\n",
        "java_count = cpLanguages.count('Java')\n",
        "# print(java_count)\n",
        "\n",
        "java_index = cpLanguages.index('Java')\n",
        "# print(java_index)\n",
        "\n",
        "python1_index = cpLanguages.index('Python')\n",
        "# print(python1_index)\n",
        "\n",
        "python2_index = cpLanguages.index('Python', 4) #Find next Python start index[4]\n",
        "# print(python2_index)\n",
        "\n",
        "python3_index = cpLanguages.index('Python', 10)\n",
        "# print(python3_index)\n",
        "\n",
        "\n",
        "cpLanguages.reverse()\n",
        "print(cpLanguages)\n",
        "\n",
        "r_count = cpLanguages.index('R')\n",
        "print(r_count)\n",
        "\n",
        "cpLanguages.sort()\n",
        "print(cpLanguages)\n",
        "\n",
        "cpLanguages.append('SQL')\n",
        "print(cpLanguages)\n",
        "\n",
        "cpLanguages.pop() \n",
        "print(cpLanguages)\n",
        "\n",
        "cpLanguages.extend('Frank')\n",
        "print(cpLanguages)\n",
        "\n",
        "cpLanguages.insert(0,'VB.NET')\n",
        "print(cpLanguages)\n",
        "\n",
        "cpLanguages.insert(6,'Kotlin')\n",
        "print(cpLanguages)\n",
        "\n",
        "cpLanguages.remove('Java')\n",
        "print(cpLanguages)\n",
        "\n",
        "cpLanguages.remove('Python')\n",
        "cpLanguages.remove('Python')\n",
        "print(cpLanguages)\n",
        "\n",
        "New_Stack = cpLanguages.copy()\n",
        "\n",
        "cpLanguages.clear()\n",
        "print(cpLanguages)\n",
        "print(New_Stack)\n"
      ]
    },
    {
      "cell_type": "markdown",
      "metadata": {
        "id": "sQwxr4hu4IBZ"
      },
      "source": [
        "###Stack Exercise 2: Creating Stack using list Built-in --> stack = Empty"
      ]
    },
    {
      "cell_type": "code",
      "execution_count": null,
      "metadata": {
        "colab": {
          "base_uri": "https://localhost:8080/",
          "height": 461
        },
        "id": "7soVsQLYnURM",
        "outputId": "ad2a88d5-a0d3-4e0a-bb23-5c719234e6b9"
      },
      "outputs": [
        {
          "name": "stdout",
          "output_type": "stream",
          "text": [
            "['Frank']\n",
            "['Frank', 'Love']\n",
            "['Frank', 'Love', 'Python']\n",
            "['Frank', 'Love', 'Python', 'Programming']\n",
            "['Frank', 'Love', 'Python', 'Programming', 555]\n",
            "['Frank', 'Love']\n",
            "['Frank', 'Love', 'Data']\n",
            "['Frank', 'Love', 'Data', 'Structures', 'And Algorithms']\n",
            "And Algorithms\n",
            "Structures\n",
            "Data\n",
            "Love\n",
            "Frank\n",
            "[]\n"
          ]
        },
        {
          "ename": "IndexError",
          "evalue": "ignored",
          "output_type": "error",
          "traceback": [
            "\u001b[0;31m---------------------------------------------------------------------------\u001b[0m",
            "\u001b[0;31mIndexError\u001b[0m                                Traceback (most recent call last)",
            "\u001b[0;32m<ipython-input-55-767f7460b635>\u001b[0m in \u001b[0;36m<module>\u001b[0;34m()\u001b[0m\n\u001b[1;32m     33\u001b[0m \u001b[0;34m\u001b[0m\u001b[0m\n\u001b[1;32m     34\u001b[0m \u001b[0mprint\u001b[0m\u001b[0;34m(\u001b[0m\u001b[0mstack1\u001b[0m\u001b[0;34m)\u001b[0m\u001b[0;34m\u001b[0m\u001b[0;34m\u001b[0m\u001b[0m\n\u001b[0;32m---> 35\u001b[0;31m \u001b[0mstack1\u001b[0m\u001b[0;34m.\u001b[0m\u001b[0mpop\u001b[0m\u001b[0;34m(\u001b[0m\u001b[0;34m)\u001b[0m\u001b[0;34m\u001b[0m\u001b[0;34m\u001b[0m\u001b[0m\n\u001b[0m\u001b[1;32m     36\u001b[0m \u001b[0;34m\u001b[0m\u001b[0m\n",
            "\u001b[0;31mIndexError\u001b[0m: pop from empty list"
          ]
        }
      ],
      "source": [
        "#Stack Exercise 2: Creating Stack using list Built-in --> stack = Empty\n",
        "stack1 = []\n",
        "stack1.append('Frank')\n",
        "print(stack1)\n",
        "stack1.append('Love')\n",
        "print(stack1)\n",
        "stack1.append('Python')\n",
        "print(stack1)\n",
        "stack1.append('Programming')\n",
        "print(stack1)\n",
        "stack1.append(555)\n",
        "print(stack1)\n",
        "stack1.pop()\n",
        "stack1.pop()\n",
        "stack1.pop()\n",
        "print(stack1)\n",
        "stack1.append('Data')\n",
        "print(stack1)\n",
        "stack1.append('Structures')\n",
        "stack1.append('And Algorithms')\n",
        "print(stack1)\n",
        "\n",
        "pop_1 = stack1.pop()\n",
        "pop_2 = stack1.pop()\n",
        "pop_3 = stack1.pop()\n",
        "pop_4 = stack1.pop()\n",
        "pop_5 = stack1.pop()\n",
        "print(pop_1)\n",
        "print(pop_2)\n",
        "print(pop_3)\n",
        "print(pop_4)\n",
        "print(pop_5)\n",
        "\n",
        "print(stack1)\n",
        "stack1.pop()\n",
        "\n"
      ]
    },
    {
      "cell_type": "markdown",
      "metadata": {
        "id": "MNRdICQIRacA"
      },
      "source": [
        "###Stack Exercise 3: Creating Stack using list Built-in --> Automatics"
      ]
    },
    {
      "cell_type": "code",
      "execution_count": null,
      "metadata": {
        "colab": {
          "base_uri": "https://localhost:8080/"
        },
        "id": "yxgfRBWik0iI",
        "outputId": "15f6b2ce-2b4a-48ce-ed95-6bf01bcb461c"
      },
      "outputs": [
        {
          "name": "stdout",
          "output_type": "stream",
          "text": [
            "\n",
            "Current Stack:  []\n",
            "\n",
            "Push items to the stack\n",
            "Current Stack: [0] \tStack Size: 1\n",
            "Current Stack: [0, 1] \tStack Size: 2\n",
            "Current Stack: [0, 1, 2] \tStack Size: 3\n",
            "Current Stack: [0, 1, 2, 3] \tStack Size: 4\n",
            "Current Stack: [0, 1, 2, 3, 4] \tStack Size: 5\n",
            "Current Stack: [0, 1, 2, 3, 4, 5] \tStack Size: 6\n",
            "Current Stack: [0, 1, 2, 3, 4, 5, 6] \tStack Size: 7\n",
            "Current Stack: [0, 1, 2, 3, 4, 5, 6, 7] \tStack Size: 8\n",
            "Current Stack: [0, 1, 2, 3, 4, 5, 6, 7, 8] \tStack Size: 9\n",
            "\n",
            "Pop item from Stack\n",
            "Current stack:  [0, 1, 2, 3, 4, 5, 6, 7] \tStack Size: 8\n",
            "Current stack:  [0, 1, 2, 3, 4, 5, 6] \tStack Size: 7\n",
            "Current stack:  [0, 1, 2, 3, 4, 5] \tStack Size: 6\n",
            "Current stack:  [0, 1, 2, 3, 4] \tStack Size: 5\n",
            "Current stack:  [0, 1, 2, 3] \tStack Size: 4\n",
            "Current stack:  [0, 1, 2] \tStack Size: 3\n",
            "Current stack:  [0, 1] \tStack Size: 2\n",
            "Current stack:  [0] \tStack Size: 1\n",
            "Current stack:  [] \tStack Size: 0\n"
          ]
        }
      ],
      "source": [
        "#Stack Exercise 3 Creating Stack using list Built-in --> Automatics\n",
        "stack2 = []\n",
        "print('\\nCurrent Stack: ',stack2)\n",
        "print('\\nPush items to the stack')\n",
        "\n",
        "#Add items to the Stack \n",
        "for i in range(9):\n",
        "  #push items into stack\n",
        "  stack2.append(i)\n",
        "  print('Current Stack:',stack2,'\\tStack Size:', len(stack2) )\n",
        "\n",
        "print('\\nPop item from Stack')\n",
        "#Pop items from the stack\n",
        "while len(stack2) > 0:\n",
        "  stack2.pop()\n",
        "  print('Current stack: ',stack2,'\\tStack Size:', len(stack2) )\n",
        "    "
      ]
    },
    {
      "cell_type": "markdown",
      "metadata": {
        "id": "jQAhy9dmmUlB"
      },
      "source": [
        "###Stack Exercise 4: Python Stack Implementation --> Creating Stack Class for Calling push() and pop()\n",
        "As you see that we can utilize List append() and pop() functions to create our Stack implementation class. Here is a Stack implementation class with example."
      ]
    },
    {
      "cell_type": "code",
      "execution_count": null,
      "metadata": {
        "colab": {
          "base_uri": "https://localhost:8080/"
        },
        "id": "p5vimNlFlzBz",
        "outputId": "48dcfa1f-7783-42e5-cfaa-03068755eaa2"
      },
      "outputs": [
        {
          "output_type": "stream",
          "name": "stdout",
          "text": [
            "Pop the last Item : Data Structures and Algorithms\n",
            "Current top item is : duck\n",
            "Pop the last Item : duck\n",
            "Current top item is : 9\n",
            "Pop the last Item : 9\n",
            "Current top item is : 6\n"
          ]
        }
      ],
      "source": [
        "#Stack Exercise 4: Python Stack Implementation --> Creating Stack Class for Calling push() and pop()\n",
        "class Stack:\n",
        "  def __init__ (self):\n",
        "    self.items = []\n",
        "\n",
        "  def isEmpty(self):\n",
        "    return self.items == []\n",
        "\n",
        "  def push(self,item):\n",
        "    self.items.append(item)\n",
        "\n",
        "  def pop(self):\n",
        "    return self.items.pop()\n",
        "\n",
        "  def top(self):\n",
        "    return self.items[len(self.items)-1]\n",
        "\n",
        "  def size(self):\n",
        "    return len(self.items)\n",
        "\n",
        "\n",
        "stack3 = Stack()\n",
        "\n",
        "stack3.push(3)\n",
        "stack3.push(6)\n",
        "stack3.push(9)\n",
        "stack3.push(\"duck\")\n",
        "stack3.push('Data Structures and Algorithms')\n",
        "print('Pop the last Item :',stack3.pop())\n",
        "print('Current top item is :',stack3.top())\n",
        "print('Pop the last Item :',stack3.pop())\n",
        "print('Current top item is :',stack3.top())\n",
        "print('Pop the last Item :',stack3.pop())\n",
        "print('Current top item is :',stack3.top())"
      ]
    },
    {
      "cell_type": "markdown",
      "metadata": {
        "id": "i_S1vkAURsvP"
      },
      "source": [
        "###Stack Exercise 5: Coverting Decimal Numbers to Binary Numbers Using Stacks"
      ]
    },
    {
      "cell_type": "markdown",
      "metadata": {
        "id": "cKi4VFMN2QIg"
      },
      "source": [
        "![alt text](https://circuitglobe.com/wp-content/uploads/2016/09/decimal-to-binary-conversion-example-1.jpg)"
      ]
    },
    {
      "cell_type": "code",
      "execution_count": null,
      "metadata": {
        "colab": {
          "base_uri": "https://localhost:8080/"
        },
        "id": "n1AgFFEqtiy5",
        "outputId": "1dd59d9c-c320-48fa-a9c8-060a5d6004e4"
      },
      "outputs": [
        {
          "output_type": "stream",
          "name": "stdout",
          "text": [
            "Please Enter the Integer to Covert: 25\n",
            "Decimal Number is  25\n",
            "25\n",
            "12\n",
            "6\n",
            "3\n",
            "1\n",
            "Binary Number =  11001\n"
          ]
        }
      ],
      "source": [
        "#Stack Exercise 5: Coverting Decimal Numbers to Binary Numbers Using Stacks\n",
        "class Stack:\n",
        "  def __init__ (self):\n",
        "    self.items = []\n",
        "\n",
        "  def isEmpty(self):\n",
        "    return self.items == []\n",
        "\n",
        "  def push(self,item):\n",
        "    self.items.append(item)\n",
        "\n",
        "  def pop(self):\n",
        "    return self.items.pop()\n",
        "\n",
        "  def top(self):\n",
        "    return self.items[len(self.items)-1]\n",
        "\n",
        "  def size(self):\n",
        "    return len(self.items)\n",
        "\n",
        "numberDec = 0\n",
        "numberBin = ''\n",
        "numberDec = int(input(\"Please Enter the Integer to Covert: \"))\n",
        "print(\"Decimal Number is \",numberDec)\n",
        "\n",
        "DectoBin_Stack = Stack() #Create The Stack\n",
        "while numberDec > 0:\n",
        "  DectoBin_Stack.push(numberDec % 2)\n",
        "  print(numberDec)\n",
        "  numberDec = numberDec // 2\n",
        "while DectoBin_Stack.isEmpty() == False:\n",
        "  numberBin = numberBin + str(DectoBin_Stack.pop())\n",
        "print(\"Binary Number = \",numberBin)"
      ]
    },
    {
      "cell_type": "code",
      "source": [
        ""
      ],
      "metadata": {
        "id": "DStGwMO-DHKX"
      },
      "execution_count": null,
      "outputs": []
    }
  ],
  "metadata": {
    "colab": {
      "collapsed_sections": [
        "pa9Crqi_jgMz",
        "sQwxr4hu4IBZ",
        "MNRdICQIRacA"
      ],
      "name": "2_Stacks_in_Python ",
      "provenance": [],
      "include_colab_link": true
    },
    "kernelspec": {
      "display_name": "Python 3",
      "name": "python3"
    }
  },
  "nbformat": 4,
  "nbformat_minor": 0
}