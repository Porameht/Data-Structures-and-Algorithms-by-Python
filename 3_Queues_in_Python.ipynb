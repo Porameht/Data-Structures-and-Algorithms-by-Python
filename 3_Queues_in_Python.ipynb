{
  "nbformat": 4,
  "nbformat_minor": 0,
  "metadata": {
    "colab": {
      "name": "3_Queues_in_Python",
      "provenance": [],
      "collapsed_sections": [],
      "include_colab_link": true
    },
    "kernelspec": {
      "name": "python3",
      "display_name": "Python 3"
    }
  },
  "cells": [
    {
      "cell_type": "markdown",
      "metadata": {
        "id": "view-in-github",
        "colab_type": "text"
      },
      "source": [
        "<a href=\"https://colab.research.google.com/github/Porameht/Data-Structures-and-Algorithms-in-Python/blob/main/3_Queues_in_Python.ipynb\" target=\"_parent\"><img src=\"https://colab.research.google.com/assets/colab-badge.svg\" alt=\"Open In Colab\"/></a>"
      ]
    },
    {
      "cell_type": "markdown",
      "metadata": {
        "id": "WZyF3A5LATW6"
      },
      "source": [
        "# Data Structures and Algorithms\n",
        "\n",
        "**Todsapon Banklongsi (Aj. NesT the Series)**\n",
        "\n",
        "Facebook: [Aj. NesT the Series](https://www.facebook.com/ajnesttheseries)\n",
        "\n",
        "YouTube: [Aj. NesT the Series](https://www.youtube.com/ajnesttheseries)\n",
        "\n",
        "![alt text](http://res.cloudinary.com/dyd911kmh/image/upload/c_scale,f_auto,q_auto:best,w_700/v1512740202/Template_2_oxrskq.png)\n",
        "\n",
        "Image: DataCamp\n",
        "\n",
        "**Primitve Data Strcutures** คือ ข้อมูลที่ถูกกำหนดคุณสมบัติไว้แล้ว เราไม่สามารถกำหนดเพิ่มหรือสร้างเพิ่มได้อีก \n",
        "\n",
        "--> Ex. Integer, Float, String, Boolean \n",
        "\n",
        "**Non-Primitive Data Structures** คือ\n",
        "คือ ข้อมูลที่ยังไม่ถูกกำหนดคุณสมบัติ เราสามารถสร้างขึ้นมาใหม่และกำหนดคุณสมบัติของชนิดข้อมูลได้\n",
        "\n",
        "--> Ex. Array, List, Tuple, Dictionary, Set, File\n",
        "\n",
        "**Linear Data Structures** หรือ โครงสร้างข้อมูลเชิงเส้น คือ โครงสร้างที่มีการจัดเก็บข้อมูลหรือความสัมพันธ์ของข้อมูลในลักษณะเรียงต่อเนื่องกันเป็นลำดับ\n",
        "\n",
        "--> Ex. Array, List, Stacks, Queues\n",
        "\n",
        "**Non-Linear Data Structures** หรือ โครงสร้างข้อมูลแบบไม่เชิงเส้น คือ โครงสร้างที่มีการจัดเก็บข้อมูลหรือความสัมพันธ์กับข้อมูลอื่นได้หลายตัว\n",
        "\n",
        "--> Ex. Graphs, Trees\n",
        "\n",
        "![alt text](https://miro.medium.com/max/1338/1*Xokk6XOjWyIGCBujkJsCzQ.jpeg)\n",
        "\n",
        "Image: Medium written by Vaidehi Joshi\n",
        "\n",
        "## Non-Primitive --> List --> Linear (Queues)\n",
        "\n",
        "![alt text](https://cdn-media-1.freecodecamp.org/images/1*EhimF7dL04AkpisbKM2LJg.jpeg)\n",
        "\n",
        "Image: freecodecamp.org by Kevin Turney\n",
        "\n",
        "![alt text](http://jcsites.juniata.edu/faculty/kruse/cs240/images/queueof.gif)\n",
        "\n",
        "Image: jcsites.juniata.edu\n",
        "\n",
        "# Queues (FIFO)\n",
        "\n",
        "***Data structures organize storage in computers so that we can efficiently access and change data. Stacks and Queues are some of the earliest data structures defined in computer science.***\n",
        "\n",
        "**A queue is a collection of objects that supports fast First-In, First-Out (FIFO) semantics for inserts and deletes. The insert and delete operations sometimes called enqueue and dequeue. Unlike lists or arrays, queues typically don’t allow for random access to the objects they contain.**\n",
        "\n",
        "Queues have a wide range of applications in algorithms and to solve scheduling, as well as parallel programming problems. A short and beautiful algorithm using a queue is breadth-first search (BFS) on a tree or graph data structure.\n",
        "\n",
        "A good example of a queue is any queue of consumers for a resource where the consumer that came first is served first. The difference between stacks and queues is in removing. In a stack we remove the item the most recently added; in a queue, we remove the item the least recently added.\n",
        "\n",
        "![alt text](https://open4tech.com/wp-content/uploads/2018/12/word-image-1.png)\n",
        "\n",
        "Image: open4tech\n",
        "\n",
        "## Linear Queue\n",
        "\n",
        "**Linear Queue** data and instructions are organize in **a sequential order one after one.**\n",
        "\n",
        "**put = Enqueue**\n",
        "\n",
        "**get = Dequeue**\n",
        "\n",
        "![alt text](https://media1.giphy.com/media/u39xdtzHkn624/giphy.gif)\n",
        "\n",
        "Image: giphy\n",
        "\n",
        "## Circular Queue \n",
        "\n",
        "**Circular Queue** data and instructions are organize in **a circular order where last element is connected with the first element.**\n",
        "\n",
        "![alt text](https://media.giphy.com/media/iSp5E3fpt2fVm/giphy.gif)\n",
        "\n",
        "Image: giphy\n",
        "\n",
        "## Difference between Linear and Circular Queues\n",
        "\n",
        "![alt text](http://pediaa.com/wp-content/uploads/2019/01/Difference-Between-Linear-Queue-and-Circular-Queue-Comparison-Summary.jpg)\n",
        "\n",
        "Image: pediaa.com"
      ]
    },
    {
      "cell_type": "markdown",
      "metadata": {
        "id": "DGMfDUDh6_85"
      },
      "source": [
        "## Queue Exercises "
      ]
    },
    {
      "cell_type": "markdown",
      "metadata": {
        "id": "oDlgSMZR7LoU"
      },
      "source": [
        "###Queue Exercise 1: Creating Queue using list Built-in"
      ]
    },
    {
      "cell_type": "code",
      "metadata": {
        "id": "nL-cnpj7-oi1",
        "colab": {
          "base_uri": "https://localhost:8080/"
        },
        "outputId": "fab6f925-e844-45a8-9f06-61081f2d0110"
      },
      "source": [
        "#Queue Exercise 1: Creating Stack using list Built-in --> queue = Empty\n",
        "queue1 = []\n",
        "queue1.append(555) #append() = enqueue\n",
        "print(queue1)\n",
        "\n",
        "queue1.append('Python')\n",
        "queue1.append('Programming')\n",
        "print(queue1)\n",
        "\n",
        "queue1.append('Frank')\n",
        "print(queue1)\n",
        "\n",
        "queue1.append('Love')\n",
        "print(queue1)\n",
        "\n",
        "queue1.pop(0) # pop(0) = dequeue\n",
        "print(queue1)\n",
        "\n",
        "queue1.pop(0)\n",
        "print(queue1)\n",
        "\n",
        "queue1.pop(0)\n",
        "print(queue1)\n",
        "\n",
        "queue1.append('data structures')\n",
        "print(queue1)\n",
        "\n",
        "queue1.append('and algorithms')\n",
        "print(queue1)\n",
        "\n",
        "queue_pop1 = queue1.pop(0)\n",
        "print(queue_pop1)\n",
        "queue_pop2 = queue1.pop(0)\n",
        "print(queue_pop2)\n",
        "queue_pop3 = queue1.pop(0)\n",
        "print(queue_pop3)\n",
        "queue_pop4 = queue1.pop(0)\n",
        "print(queue_pop4)\n",
        "\n",
        "print(queue1)\n",
        "\n",
        "\n",
        "\n"
      ],
      "execution_count": null,
      "outputs": [
        {
          "output_type": "stream",
          "name": "stdout",
          "text": [
            "[555]\n",
            "[555, 'Python', 'Programming']\n",
            "[555, 'Python', 'Programming', 'Frank']\n",
            "[555, 'Python', 'Programming', 'Frank', 'Love']\n",
            "['Python', 'Programming', 'Frank', 'Love']\n",
            "['Programming', 'Frank', 'Love']\n",
            "['Frank', 'Love']\n",
            "['Frank', 'Love', 'data structures']\n",
            "['Frank', 'Love', 'data structures', 'and algorithms']\n",
            "Frank\n",
            "Love\n",
            "data structures\n",
            "and algorithms\n",
            "[]\n"
          ]
        }
      ]
    },
    {
      "cell_type": "markdown",
      "metadata": {
        "id": "O2JTvsvOFl5L"
      },
      "source": [
        "### Queue Exercise 2: Creating Queue using list Built-in --> Automatics\n",
        "\n",
        "![alt text](https://www.javascripttutorial.net/wp-content/uploads/2016/08/JavaScript-Queue-Illustration.png)\n",
        "\n",
        "Image: javascripttutorial.net"
      ]
    },
    {
      "cell_type": "code",
      "metadata": {
        "id": "SepXcBWU-3yU",
        "colab": {
          "base_uri": "https://localhost:8080/"
        },
        "outputId": "1cab1b7f-57a8-4b74-9a1a-bd7c1f76917c"
      },
      "source": [
        "#Queue Exercise 2 Creating Queue using list Built-in --> Automatics\n",
        "queue2 = []\n",
        "print('\\nEnqeue item to the queue')\n",
        "#enqueue item to the queue\n",
        "for i in range(9):\n",
        "  queue2.append(i)\n",
        "  print('Current queue: ' ,queue2 ,'\\tqueue size :' ,len(queue2))\n",
        "\n",
        "\n",
        "print('\\ndequeue item from the queue')\n",
        "#dequeue item from the queue \n",
        "while len(queue2) > 0: #check if the queue is empty\n",
        "  queue2.pop(0)\n",
        "  print('Current queue :',queue2,'\\tqueue size :',len(queue2))\n",
        "\n"
      ],
      "execution_count": null,
      "outputs": [
        {
          "output_type": "stream",
          "name": "stdout",
          "text": [
            "\n",
            "Enqeue item to the queue\n",
            "Current queue:  [0] \tqueue size : 1\n",
            "Current queue:  [0, 1] \tqueue size : 2\n",
            "Current queue:  [0, 1, 2] \tqueue size : 3\n",
            "Current queue:  [0, 1, 2, 3] \tqueue size : 4\n",
            "Current queue:  [0, 1, 2, 3, 4] \tqueue size : 5\n",
            "Current queue:  [0, 1, 2, 3, 4, 5] \tqueue size : 6\n",
            "Current queue:  [0, 1, 2, 3, 4, 5, 6] \tqueue size : 7\n",
            "Current queue:  [0, 1, 2, 3, 4, 5, 6, 7] \tqueue size : 8\n",
            "Current queue:  [0, 1, 2, 3, 4, 5, 6, 7, 8] \tqueue size : 9\n",
            "\n",
            "dequeue item from the queue\n",
            "Current queue : [1, 2, 3, 4, 5, 6, 7, 8] \tqueue size : 8\n",
            "Current queue : [2, 3, 4, 5, 6, 7, 8] \tqueue size : 7\n",
            "Current queue : [3, 4, 5, 6, 7, 8] \tqueue size : 6\n",
            "Current queue : [4, 5, 6, 7, 8] \tqueue size : 5\n",
            "Current queue : [5, 6, 7, 8] \tqueue size : 4\n",
            "Current queue : [6, 7, 8] \tqueue size : 3\n",
            "Current queue : [7, 8] \tqueue size : 2\n",
            "Current queue : [8] \tqueue size : 1\n",
            "Current queue : [] \tqueue size : 0\n"
          ]
        }
      ]
    },
    {
      "cell_type": "markdown",
      "metadata": {
        "id": "Wtjt57n2FyLU"
      },
      "source": [
        "### Queue Exercise 3: Python Queue Implementation --> Creating Queue Class for Calling enqueue() and dequeue()"
      ]
    },
    {
      "cell_type": "code",
      "metadata": {
        "id": "uIN1n0ZgGJ2m",
        "colab": {
          "base_uri": "https://localhost:8080/"
        },
        "outputId": "4b125889-4293-4c53-fe31-ef0ff6d2cee6"
      },
      "source": [
        "#Queue Exercise 3  Creating Queue Class for Calling enqueue() and dequeue()\n",
        "class Queue:\n",
        "\n",
        "  def __init__(self):\n",
        "    self.queue = []\n",
        "\n",
        "  def enqueue(self,item):\n",
        "    self.queue.append(item)\n",
        "\n",
        "  def dequeue(self):\n",
        "    if len(self.queue) <1:\n",
        "      return None\n",
        "    return self.queue.pop(0)\n",
        "  def size(self):\n",
        "    return len(self.queue)\n",
        "\n",
        "queue3 = Queue()\n",
        "\n",
        "queue3.enqueue('porameht')\n",
        "queue3.enqueue('data structures')\n",
        "queue3.enqueue('and algorithms')\n",
        "queue3.enqueue(101)\n",
        "\n",
        "dequeue_value = queue3.dequeue()\n",
        "print(dequeue_value)\n",
        "dequeue_value = queue3.dequeue()\n",
        "print(dequeue_value)\n",
        "dequeue_value = queue3.dequeue()\n",
        "print(dequeue_value)\n",
        "dequeue_value = queue3.dequeue()\n",
        "print(dequeue_value)\n",
        "print(queue3.dequeue())\n",
        "\n",
        "\n",
        "\n",
        "\n"
      ],
      "execution_count": null,
      "outputs": [
        {
          "output_type": "stream",
          "name": "stdout",
          "text": [
            "porameht\n",
            "data structures\n",
            "and algorithms\n",
            "101\n",
            "None\n"
          ]
        }
      ]
    },
    {
      "cell_type": "markdown",
      "metadata": {
        "id": "_D3_PEXL90qC"
      },
      "source": [
        "\n",
        "\n",
        "### Queue Exercise 4: Cicular Queue Implemenation\n",
        "\n",
        "![alt text](https://media.geeksforgeeks.org/wp-content/uploads/Circular-queue_1.png)\n",
        "\n",
        "Image and Source: geeksforgeeks\n",
        "\n",
        "### Operations on Circular Queue:\n",
        "\n",
        "**Front:** Get the front item from queue.\n",
        "\n",
        "**Rear:** Get the last item from queue.\n",
        "\n",
        "**Enqueue(value)** This function is used to insert an element into the circular queue. In a circular queue, the new element is always inserted at Rear position.\n",
        "\n",
        "**Steps:**\n",
        "\n",
        "1) Check whether queue is Full – Check ((rear == SIZE-1 && front == 0) || (rear == front-1)).\n",
        "\n",
        "2) If it is full then display Queue is full. If queue is not full then, check if (rear == SIZE – 1 && front != 0) if it is true then set rear=0 and insert element.\n",
        "\n",
        "**Dequeue()** This function is used to delete an element from the circular queue. In a circular queue, the element is always deleted from front position.\n",
        "\n",
        "**Steps:**\n",
        "\n",
        "1) Check whether queue is Empty means check (front==-1).\n",
        "\n",
        "2) If it is empty then display Queue is empty. If queue is not empty then step 3\n",
        "\n",
        "3) Check if (front==rear) if it is true then set front=rear= -1 else check if (front==size-1), if it is true then set front=0 and return the element."
      ]
    },
    {
      "cell_type": "code",
      "metadata": {
        "id": "Qtm48TPnJ5q2",
        "colab": {
          "base_uri": "https://localhost:8080/"
        },
        "outputId": "e6bb3bef-80b5-40b7-edd0-f64f62d99154"
      },
      "source": [
        "#Queue Exercise 4 Circular Queue Implementation\n",
        "class CircularQueue():\n",
        "  #constructir\n",
        "  def __init__(self,size):\n",
        "    self.size = size\n",
        "\n",
        "    self.queue = [None for i in range(size)]\n",
        "    self.front = self.rear = -1\n",
        "\n",
        "  def enqueue(self,data):\n",
        "    #Condition if queue is full\n",
        "    if ((self.rear + 1) % self.size == self.front):\n",
        "      print(\"Queue is Full\\n\")\n",
        "\n",
        "    #Condition if empty queue\n",
        "    elif (self.front == -1):\n",
        "      self.front = 0\n",
        "      self.rear = 0\n",
        "      self.queue[self.rear] = data\n",
        "\n",
        "    else:\n",
        "      #Next position of rear\n",
        "      self.rear = (self.rear + 1) % self.size\n",
        "      self.queue[self.rear] = data\n",
        "\n",
        "  def dequeue(self):\n",
        "    #Condition for empty queue\n",
        "    if(self.front == -1):\n",
        "      print(\"Queue is Empty\\n\")\n",
        "\n",
        "    #Condition for only one element\n",
        "    elif(self.front == self.rear):\n",
        "      temp = self.queue[self.front]\n",
        "      self.front = -1\n",
        "      self.rear = -1\n",
        "      return temp\n",
        "    else:\n",
        "      temp = self.queue[self.front]\n",
        "      self.front = (self.front + 1) % self.size\n",
        "      return temp\n",
        "\n",
        "  def display(self):\n",
        "    #Condition for empty queue\n",
        "    if(self.front == -1):\n",
        "      print(self.front)\n",
        "    elif(self.rear >= self.front):\n",
        "      print(\"\\nElements in the circular queue are:\", end = \" \")\n",
        "      for i in range(self.front, self.rear + 1):\n",
        "        print(self.queue[i], end = \" \")\n",
        "    else:\n",
        "      print(\"\\nElement in circular queue are:\", end = \" \")\n",
        "      for i in range(self.front,self.size):\n",
        "        print(self.queue[i],end = \" \")\n",
        "      for i in range(0, self.rear +1):\n",
        "        print(self.queue[i],end = \" \")\n",
        "      print()\n",
        "    if((self.rear +1) % self.size == self.front):\n",
        "      print(\"Queue is full\")\n",
        "\n",
        "  \n",
        "\n",
        "#Driver code\n",
        "queue4 = CircularQueue(5)\n",
        "queue4.enqueue(14)\n",
        "queue4.display()\n",
        "queue4.enqueue(22)\n",
        "queue4.display()\n",
        "queue4.enqueue(13)\n",
        "queue4.display()\n",
        "queue4.enqueue(-6)\n",
        "queue4.display()\n",
        "print(\"\\nDeleted Value = \", queue4.dequeue())\n",
        "queue4.display()\n",
        "print(\"\\nDeleted Value = \", queue4.dequeue())\n",
        "queue4.display()\n",
        "queue4.enqueue(9)\n",
        "queue4.enqueue(20)\n",
        "queue4.enqueue(5)\n",
        "queue4.display()\n"
      ],
      "execution_count": null,
      "outputs": [
        {
          "output_type": "stream",
          "name": "stdout",
          "text": [
            "\n",
            "Elements in the circular queue are: 14 \n",
            "Elements in the circular queue are: 14 22 \n",
            "Elements in the circular queue are: 14 22 13 \n",
            "Elements in the circular queue are: 14 22 13 -6 \n",
            "Deleted Value =  14\n",
            "\n",
            "Elements in the circular queue are: 22 13 -6 \n",
            "Deleted Value =  22\n",
            "\n",
            "Elements in the circular queue are: 13 -6 \n",
            "Element in circular queue are: 13 -6 9 20 5 \n",
            "Queue is full\n"
          ]
        }
      ]
    }
  ]
}