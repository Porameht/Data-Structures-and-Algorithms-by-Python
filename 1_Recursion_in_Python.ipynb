{
  "nbformat": 4,
  "nbformat_minor": 0,
  "metadata": {
    "colab": {
      "name": "1_Recursion_in_Python",
      "provenance": [],
      "collapsed_sections": [],
      "include_colab_link": true
    },
    "kernelspec": {
      "name": "python3",
      "display_name": "Python 3"
    }
  },
  "cells": [
    {
      "cell_type": "markdown",
      "metadata": {
        "id": "view-in-github",
        "colab_type": "text"
      },
      "source": [
        "<a href=\"https://colab.research.google.com/github/Porameht/Data-Structures-and-Algorithms-in-Python/blob/main/1_Recursion_in_Python.ipynb\" target=\"_parent\"><img src=\"https://colab.research.google.com/assets/colab-badge.svg\" alt=\"Open In Colab\"/></a>"
      ]
    },
    {
      "cell_type": "markdown",
      "metadata": {
        "id": "HRkJAaxP9Dfn"
      },
      "source": [
        "# Data Structures and Algorithms\n",
        "\n",
        "**Todsapon Banklongsi (Aj. NesT the Series)**\n",
        "\n",
        "Facebook: [Aj. NesT the Series](https://www.facebook.com/ajnesttheseries)\n",
        "\n",
        "YouTube: [Aj. NesT the Series](https://www.youtube.com/ajnesttheseries)\n",
        "\n",
        "# Recursion in Python\n",
        "**\"Of all ideas I have introduced to children, recursion stands out as the one idea that is particularly able to evoke an excited response.\"**\n",
        "\n",
        "\"จากความคิดทั้งหมดที่ฉันจะแนะนำให้เด็ก ๆ รู้จัก การเรียกซ้ำมีความโดดเด่นคือเป็นแนวคิดเดียวที่สามารถทำให้เกิดการตอบสนองที่น่าตื่นเต้น\"\n",
        "\n",
        "— Seymour Papert, Mindstorms\n"
      ]
    },
    {
      "cell_type": "markdown",
      "metadata": {
        "id": "E-IZBkzD9G2R"
      },
      "source": [
        "![alt text](https://theburningmonk.com/wp-content/uploads/2017/08/recursion-01.png)\n",
        "\n",
        "Image: theburningmonk.com\n",
        "\n",
        "[Example: Recursion](http://i.imgur.com/jk4TT3n.gif)\n",
        "\n",
        "## Recursive Functions and Recursive Data Structures\n",
        "\n",
        "**What are you working on?**\n",
        "\n",
        "trying to fix the problems I created when I tried to fix the problems I created when I tried to fix the problems I created when...\n",
        "![alt text](https://files.realpython.com/media/fixing_problems.ffd6d34e887e.png)\n",
        "\n",
        "Image: xkcd.com"
      ]
    },
    {
      "cell_type": "markdown",
      "metadata": {
        "id": "Qh8YJh3CvLOE"
      },
      "source": [
        "## Recursion Exercises "
      ]
    },
    {
      "cell_type": "markdown",
      "metadata": {
        "id": "EXUzFgZ9Dxpu"
      },
      "source": [
        "### Exercise 1: Iterative Products Delivery\n",
        "เขียนโปรแกรมส่งของแบบ Iteration หรือการทำซ้ำ ผู้ส่งจะต้องส่งของด้วยตัวเองทุกครั้ง\n",
        "\n",
        "![alt text](https://files.realpython.com/media/santa_claus_2.ecbf2686f1a1.png)\n",
        "\n",
        "Image: realpython.com"
      ]
    },
    {
      "cell_type": "code",
      "metadata": {
        "id": "EIXMeg5Q2-nO",
        "colab": {
          "base_uri": "https://localhost:8080/"
        },
        "outputId": "cf97b72c-9eca-450e-978b-e00e1e7ce462"
      },
      "source": [
        "#Recursive Exercise 1 Iterative Products Delivery\n",
        "houses = [\"Nadech's House\",\"Yaya's Houses\",\"Aj.nest's Houses\",\"Mario's Houses\"]\n",
        "def deliver_products_iteratively():\n",
        "  for house in houses:\n",
        "    print(\"Delivering product to\",house)\n",
        "\n",
        "#call function\n",
        "deliver_products_iteratively()"
      ],
      "execution_count": null,
      "outputs": [
        {
          "output_type": "stream",
          "name": "stdout",
          "text": [
            "Delivering product to Nadech's House\n",
            "Delivering product to Yaya's Houses\n",
            "Delivering product to Aj.nest's Houses\n",
            "Delivering product to Mario's Houses\n"
          ]
        }
      ]
    },
    {
      "cell_type": "markdown",
      "metadata": {
        "id": "yCdWFNa92E0X"
      },
      "source": [
        "### Exercise 2: Recursive Products Delivery\n",
        "\n",
        "พัฒนา Algorithm ของโปรแกรมให้ดีขึ้นโดยแบ่งงานให้คนอื่นมาช่วยส่งของให้แทน \n",
        "\n",
        "**การแบ่งปัญหาใหญ่ให้เป็นปัญหาย่อย จะนิยมใช้ Recursive Algorithms** \n",
        "\n",
        "1) แต่งตั้งพนักงงานส่งของและมอบงานทั้งหมดให้ \n",
        "\n",
        "2) กำหนดชื่อและความรับผิดชอบให้กับพนักงงานส่งของตามจำนวนบ้านที่พวกเขารับผิดชอบ\n",
        "\n",
        "**โดยสร้างเงื่อนไข**\n",
        "\n",
        "ถ้ามากกว่า 1 หลัง จะมีผู้จัดการ (Manager) ค่อยแต่งตั้งและแบ่งงานให้พนักงานช่วยกันส่งของ  \n",
        "\n",
        "ถ้าเท่ากับ 1 หลัง พนักงาน (Worker) ส่งของจะทำการส่งของให้กับบ้านที่ได้รับมอบหมายเอง\n",
        "\n",
        "### The Structure of a Recursive Algorithm\n",
        "\n",
        "Divide it into subproblems and apply the same strategy\n",
        "\n",
        "![alt text](https://files.realpython.com/media/elves_7.8d1af1cd85c8.png)\n",
        "\n",
        "Image: realpython.com\n",
        "\n",
        "### All Recursive Functions share a common structure made up of 2 parts:\n",
        "\n",
        "**1) Base Case**\n",
        "\n",
        "**2) Recursive Case**"
      ]
    },
    {
      "cell_type": "code",
      "metadata": {
        "id": "nyoMn6fc3Jsi",
        "colab": {
          "base_uri": "https://localhost:8080/"
        },
        "outputId": "3e1823a1-73ba-458b-863f-c2348695acb3"
      },
      "source": [
        "#Recursive Exercise 2\n",
        "houses = [\"nadach's house\",\"yaya's house\",\"aj.nest's house\",\"mario's house\"]\n",
        "def deliver_products_recursively(houses):\n",
        "  #worker doing his work --> base case == 1\n",
        "  if len(houses) == 1:\n",
        "    house = houses[0]\n",
        "    print(\"Delivering products to\",house)\n",
        "  #manager doing his work --> recursive case\n",
        "  else:\n",
        "    mid = len(houses) // 2\n",
        "    first_half = houses[:mid]\n",
        "    second_half = houses[mid:]\n",
        "    #divides his work among two workers\n",
        "    deliver_products_recursively(first_half)\n",
        "    deliver_products_recursively(second_half)\n",
        "#call recursive function\n",
        "deliver_products_recursively(houses)"
      ],
      "execution_count": null,
      "outputs": [
        {
          "output_type": "stream",
          "name": "stdout",
          "text": [
            "Delivering products to nadach's house\n",
            "Delivering products to yaya's house\n",
            "Delivering products to aj.nest's house\n",
            "Delivering products to mario's house\n"
          ]
        }
      ]
    },
    {
      "cell_type": "markdown",
      "metadata": {
        "id": "y9OUxHPJ_9bE"
      },
      "source": [
        "### Exercise 3: Calculating Factorial \n",
        "\n",
        "เขียนโปรแกรมการคำนวณ Factorial n!\n",
        "\n",
        "เช่น \n",
        "\n",
        "5! = 5 x 4 x 3 x 2 x 1 = 120\n",
        "\n",
        "6! = 6 x 5 x 4 x 3 x 2 x 1 = 720\n",
        "```\n",
        "1! = 1\n",
        "n! = n x (n−1) x (n−2) x (n−3) ⋅⋅⋅⋅ x 3 x 2 x 1\n",
        "n! = n x (n−1)!\n",
        "```\n",
        "![alt text](https://www.mathwarehouse.com/programming/images/recusion-factorial-code-animated-gifs.gif)"
      ]
    },
    {
      "cell_type": "code",
      "metadata": {
        "id": "6smrg35p3PlL",
        "colab": {
          "base_uri": "https://localhost:8080/"
        },
        "outputId": "01d58561-78dc-4bad-85c4-7a2d4a71c695"
      },
      "source": [
        "#Recursive Exercise 3\n",
        "def factorial_recursive(n):\n",
        "  # base case 1! = 1\n",
        "  if n == 1:\n",
        "    return 1\n",
        "  # recursive case: n! = n * (n-1)!\n",
        "  else:\n",
        "    return n * factorial_recursive(n-1)\n",
        "#call function recursive function\n",
        "factorial_recursive(6)\n"
      ],
      "execution_count": null,
      "outputs": [
        {
          "output_type": "execute_result",
          "data": {
            "text/plain": [
              "720"
            ]
          },
          "metadata": {},
          "execution_count": 43
        }
      ]
    },
    {
      "cell_type": "markdown",
      "metadata": {
        "id": "D4XxLFdMHGRu"
      },
      "source": [
        "### Exercise 4: Maintaining State --> Sum Recursive\n",
        "\n",
        "เขียนโปรแกรมการคำนวณ Sum ค่าตัวเองไปเรื่อย ๆ\n",
        "\n",
        "เช่น \n",
        "\n",
        "1 + 2 + 3 + 4 + 5 + 6 + 7 + 8 + 9 + 10 = 55\n",
        "\n",
        "1 + 2 + 3 + 4 + 5 + 6 + 7 + 8 + 9 + 10 + 11 + 12 = 78\n",
        "\n",
        "![alt text](https://files.realpython.com/media/state_3.3e8a68c4fde5.png)\n",
        "\n",
        "Image: realpython.com"
      ]
    },
    {
      "cell_type": "code",
      "metadata": {
        "id": "JRi1EzZz3Xoi",
        "colab": {
          "base_uri": "https://localhost:8080/"
        },
        "outputId": "9095b55e-fce0-4850-f790-83b7396fa92b"
      },
      "source": [
        "#Recursive Exercise 4.1 Assign Arguments\n",
        "def sum_recursive(current_number, accumulated_sum):\n",
        "  #base case\n",
        "  #return the final state\n",
        "  if current_number == 11:\n",
        "    return accumulated_sum\n",
        "\n",
        "  #recursive case\n",
        "  #thread the state through the recursive call\n",
        "  else:\n",
        "    print(accumulated_sum)\n",
        "    return sum_recursive(current_number + 1, accumulated_sum + current_number)\n",
        "\n",
        "\n",
        "#call sum recursive function\n",
        "#1+2+3+4+5+6+7+8+9+10\n",
        "sum_recursive(1,0)"
      ],
      "execution_count": null,
      "outputs": [
        {
          "output_type": "stream",
          "name": "stdout",
          "text": [
            "0\n",
            "1\n",
            "3\n",
            "6\n",
            "10\n",
            "15\n",
            "21\n",
            "28\n",
            "36\n",
            "45\n"
          ]
        },
        {
          "output_type": "execute_result",
          "data": {
            "text/plain": [
              "55"
            ]
          },
          "metadata": {},
          "execution_count": 4
        }
      ]
    },
    {
      "cell_type": "code",
      "metadata": {
        "id": "RqNypJtU3dOI",
        "colab": {
          "base_uri": "https://localhost:8080/"
        },
        "outputId": "54a59aa7-a414-4973-ae60-dd706f371d8f"
      },
      "source": [
        "#Recursive Exercise 4.2 Global Mutable State\n",
        "current_number = 1\n",
        "accumulated_sum = 0\n",
        "\n",
        "def sum_recursive():\n",
        "  global current_number\n",
        "  global accumulated_sum\n",
        "\n",
        "  #base case\n",
        "  if current_number == 11:\n",
        "    return accumulated_sum\n",
        "  #recursive case\n",
        "  else:\n",
        "    accumulated_sum = accumulated_sum + current_number\n",
        "    current_number = current_number + 1\n",
        "    print(accumulated_sum)\n",
        "    return sum_recursive()\n",
        "\n",
        "#call sum recursive function\n",
        "sum_recursive()"
      ],
      "execution_count": null,
      "outputs": [
        {
          "output_type": "stream",
          "name": "stdout",
          "text": [
            "1\n",
            "3\n",
            "6\n",
            "10\n",
            "15\n",
            "21\n",
            "28\n",
            "36\n",
            "45\n",
            "55\n"
          ]
        },
        {
          "output_type": "execute_result",
          "data": {
            "text/plain": [
              "55"
            ]
          },
          "metadata": {},
          "execution_count": 3
        }
      ]
    },
    {
      "cell_type": "code",
      "metadata": {
        "id": "rtTJcRPP3ouJ",
        "colab": {
          "base_uri": "https://localhost:8080/"
        },
        "outputId": "fc03f15f-112a-450e-c5fa-71a0c0e8607c"
      },
      "source": [
        "#Recursive Exercise 4.3 A List is an example of a Recursive Data Structure\n",
        "def list_sum_recursive(input_list):\n",
        "  #base case\n",
        "  if input_list == []:\n",
        "    return 0\n",
        "  #recursive case\n",
        "  else:\n",
        "    head = input_list[0]\n",
        "    smaller_list = input_list[1:]\n",
        "    print(\"this is data of smaller_list ->\",smaller_list)\n",
        "    print(\"this is data of head ->\",head)\n",
        "    return head + list_sum_recursive(smaller_list)\n",
        "\n",
        "#call list sum recursive function\n",
        "list_sum_recursive([1,2,3,4,5,6,7,8,9,10])\n"
      ],
      "execution_count": null,
      "outputs": [
        {
          "output_type": "stream",
          "name": "stdout",
          "text": [
            "this is data of smaller_list -> [2, 3, 4, 5, 6, 7, 8, 9, 10]\n",
            "this is data of head -> 1\n",
            "this is data of smaller_list -> [3, 4, 5, 6, 7, 8, 9, 10]\n",
            "this is data of head -> 2\n",
            "this is data of smaller_list -> [4, 5, 6, 7, 8, 9, 10]\n",
            "this is data of head -> 3\n",
            "this is data of smaller_list -> [5, 6, 7, 8, 9, 10]\n",
            "this is data of head -> 4\n",
            "this is data of smaller_list -> [6, 7, 8, 9, 10]\n",
            "this is data of head -> 5\n",
            "this is data of smaller_list -> [7, 8, 9, 10]\n",
            "this is data of head -> 6\n",
            "this is data of smaller_list -> [8, 9, 10]\n",
            "this is data of head -> 7\n",
            "this is data of smaller_list -> [9, 10]\n",
            "this is data of head -> 8\n",
            "this is data of smaller_list -> [10]\n",
            "this is data of head -> 9\n",
            "this is data of smaller_list -> []\n",
            "this is data of head -> 10\n"
          ]
        },
        {
          "output_type": "execute_result",
          "data": {
            "text/plain": [
              "55"
            ]
          },
          "metadata": {},
          "execution_count": 14
        }
      ]
    },
    {
      "cell_type": "markdown",
      "metadata": {
        "id": "UaZBY5tWLafI"
      },
      "source": [
        "### Exercise 5: List Input of a Recursive Data Structure\n",
        "\n",
        "เขียนโปรแกรมโดยใช้ Input แบบ List มาประยุกต์ใช้ในโครงสร้างแบบ Recursion\n",
        "\n",
        "![alt text](https://files.realpython.com/media/list.3df62a89243d.gif)\n",
        "\n",
        "Image: realpython.com"
      ]
    },
    {
      "cell_type": "code",
      "metadata": {
        "id": "oM6_KYhq34AY",
        "colab": {
          "base_uri": "https://localhost:8080/"
        },
        "outputId": "c253ed82-8a71-4d38-c102-fbfc9057847e"
      },
      "source": [
        "#Recursive Exercise 5.1 \n",
        "def attach_head(element, input_list):\n",
        "  return [element] + input_list\n",
        "\n",
        "#Call List of recursive function\n",
        "#attach_head(\"i\", attach_head(\"Love\", attach_head(\"Recursion\", attach_head(555, []))))\n",
        "\n",
        "\n",
        "attach_head('I',                                            #(4) will return [I, Love, Recurtion, 555]\n",
        "            attach_head('Love',                             #(3) will return [Love, Recursion, 555]\n",
        "                        attach_head('Recursion',            #(2) will return [Recursion, 555]\n",
        "                                    attach_head(555, [])))) #(1) will return [555]\n"
      ],
      "execution_count": null,
      "outputs": [
        {
          "output_type": "execute_result",
          "data": {
            "text/plain": [
              "['I', 'Love', 'Recursion', 555]"
            ]
          },
          "metadata": {},
          "execution_count": 3
        }
      ]
    },
    {
      "cell_type": "markdown",
      "metadata": {
        "id": "Vh5Zc7ANUjxw"
      },
      "source": [
        "# ![alt text](https://www.mathwarehouse.com/programming/images/recursion-with-code-and-animation_minimized-edited-2.gif)"
      ]
    },
    {
      "cell_type": "code",
      "metadata": {
        "id": "vrXKmMYE4BF3",
        "colab": {
          "base_uri": "https://localhost:8080/"
        },
        "outputId": "66f92860-2f2c-45c9-a18f-d684747709ac"
      },
      "source": [
        "#Recursive Exercise 5.2\n",
        "Line = [1,2,3,4,5,6]\n",
        "def howmanyin(lst):\n",
        "  if lst[1:]:\n",
        "    print(\"me and the guys behind\")\n",
        "    # print(lst[1:])\n",
        "    return 1 + howmanyin(lst[1:])\n",
        "  else:\n",
        "    print(\"just me\")\n",
        "    return 1\n",
        "\n",
        "#call recursive function\n",
        "howmanyin(Line)\n"
      ],
      "execution_count": null,
      "outputs": [
        {
          "output_type": "stream",
          "name": "stdout",
          "text": [
            "me and the guys behind\n",
            "me and the guys behind\n",
            "me and the guys behind\n",
            "me and the guys behind\n",
            "me and the guys behind\n",
            "just me\n"
          ]
        },
        {
          "output_type": "execute_result",
          "data": {
            "text/plain": [
              "6"
            ]
          },
          "metadata": {},
          "execution_count": 9
        }
      ]
    },
    {
      "cell_type": "markdown",
      "metadata": {
        "id": "PwpWY8ihS-qo"
      },
      "source": [
        "### Exercise 6: Fibonacci\n",
        "\n",
        "Fibonacci Numbers นำตัวเลขสองตัวมาบวกกัน --> 1, 1, 2, 3, 5, 8, 13, 21, 34, 55, 89, 144, 233, ...\n",
        "\n",
        "144/233 = 0.618, 89/233 = 0.382, 55/233 = 0.236, ...\n",
        "\n",
        "**0.236, 0.382, 0.618, 1, 1.618, 2.618, ...**\n",
        "\n",
        "คือสัดส่วนที่พบในธรรมชาติ เช่น นำมาประยุกต์ใช้ในการเทรดหุ้นสร้างเส้นแนวรับและแนวต้าน หรือออกแบบงานศิลปะ Golden Ratio 1.618\n",
        "\n",
        "![alt text](http://1.bp.blogspot.com/-1Y_OctZeEqA/UiHTwCEkfcI/AAAAAAAABQc/uSM0Lv3YORs/s1600/fibonacci+retracement+indicator+(15)\n",
        "\n",
        "เขียนโปรแกรมโดยใช้ Input แบบ List มาประยุกต์ใช้ในโครงสร้างแบบ Recursion\n",
        "\n",
        "![alt text](https://www.mathwarehouse.com/programming/images/fibonacci-recursion-demonstration-animation-python.gif)"
      ]
    },
    {
      "cell_type": "code",
      "metadata": {
        "id": "_1OEk3oy4F_g",
        "colab": {
          "base_uri": "https://localhost:8080/"
        },
        "outputId": "0916562c-09e6-42ac-cee5-09f3e3053bda"
      },
      "source": [
        "#Recursive Exercise 6\n",
        "def fibonacci_recursive(n):\n",
        "  #Base case\n",
        "  if n <= 1:\n",
        "    return n\n",
        "  #Recursive case\n",
        "  else:\n",
        "    return (fibonacci_recursive(n-1) + fibonacci_recursive(n-2))\n",
        "\n",
        "#Take input from the user\n",
        "nterms = int(input(\"How many terms? \"))\n",
        "\n",
        "#Check if the number of terms is valid\n",
        "if nterms <= 0:\n",
        "  print(\"Please enter a positive integer\")\n",
        "else:\n",
        "  print(\"Fibonacci sequence: \")\n",
        "  for i in range(nterms):\n",
        "    print(\"This data values: \",i)\n",
        "    print(fibonacci_recursive(i))\n"
      ],
      "execution_count": null,
      "outputs": [
        {
          "output_type": "stream",
          "name": "stdout",
          "text": [
            "How many terms? 10\n",
            "Fibonacci sequence: \n",
            "This data values:  0\n",
            "0\n",
            "This data values:  1\n",
            "1\n",
            "This data values:  2\n",
            "1\n",
            "This data values:  3\n",
            "2\n",
            "This data values:  4\n",
            "3\n",
            "This data values:  5\n",
            "5\n",
            "This data values:  6\n",
            "8\n",
            "This data values:  7\n",
            "13\n",
            "This data values:  8\n",
            "21\n",
            "This data values:  9\n",
            "34\n"
          ]
        }
      ]
    }
  ]
}